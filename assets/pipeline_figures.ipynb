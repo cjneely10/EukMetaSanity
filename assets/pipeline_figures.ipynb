{
 "cells": [
  {
   "cell_type": "code",
   "execution_count": 37,
   "metadata": {
    "collapsed": true
   },
   "outputs": [],
   "source": [
    "import networkx as nx\n",
    "import matplotlib.pyplot as plt"
   ]
  },
  {
   "cell_type": "code",
   "execution_count": 38,
   "outputs": [],
   "source": [
    "TAX = \"taxonomy\"\n",
    "REP = \"repeats\"\n",
    "AB = \"abinitio\"\n",
    "EV = \"evidence\"\n",
    "ROOT = \"input\"\n",
    "OUT = \"output\""
   ],
   "metadata": {
    "collapsed": false,
    "pycharm": {
     "name": "#%%\n"
    }
   }
  },
  {
   "cell_type": "code",
   "execution_count": 39,
   "outputs": [],
   "source": [
    "G = nx.DiGraph()\n",
    "G.add_edge(ROOT, TAX)\n",
    "G.add_edge(ROOT, REP)\n",
    "G.add_edge(ROOT, AB)\n",
    "G.add_edge(ROOT, EV)\n",
    "G.add_edge(TAX, REP)\n",
    "G.add_edge(TAX, AB)\n",
    "G.add_edge(REP, AB)\n",
    "G.add_edge(TAX, EV)\n",
    "G.add_edge(REP, EV)\n",
    "G.add_edge(AB, EV)\n",
    "G.add_edge(TAX, OUT)\n",
    "G.add_edge(REP, OUT)\n",
    "G.add_edge(AB, OUT)\n",
    "G.add_edge(EV, OUT)"
   ],
   "metadata": {
    "collapsed": false,
    "pycharm": {
     "name": "#%%\n"
    }
   }
  },
  {
   "cell_type": "code",
   "execution_count": 41,
   "outputs": [
    {
     "data": {
      "text/plain": "<Figure size 432x288 with 0 Axes>"
     },
     "metadata": {},
     "output_type": "display_data"
    }
   ],
   "source": [
    "for i, node in enumerate(G):\n",
    "\tcmap = []\n",
    "\tfor j in range(i + 1):\n",
    "\t\tcmap.append(\"red\")\n",
    "\tfor j in range(i + 1, len(G)):\n",
    "\t\tcmap.append(\"lightblue\")\n",
    "\tnx.draw_circular(G, with_labels=True, node_color=cmap)\n",
    "\tplt.savefig(\"run\" + str(i) + \".png\", format=\"PNG\")\n",
    "\tplt.clf()"
   ],
   "metadata": {
    "collapsed": false,
    "pycharm": {
     "name": "#%%\n"
    }
   }
  }
 ],
 "metadata": {
  "kernelspec": {
   "display_name": "Python 3",
   "language": "python",
   "name": "python3"
  },
  "language_info": {
   "codemirror_mode": {
    "name": "ipython",
    "version": 2
   },
   "file_extension": ".py",
   "mimetype": "text/x-python",
   "name": "python",
   "nbconvert_exporter": "python",
   "pygments_lexer": "ipython2",
   "version": "2.7.6"
  }
 },
 "nbformat": 4,
 "nbformat_minor": 0
}